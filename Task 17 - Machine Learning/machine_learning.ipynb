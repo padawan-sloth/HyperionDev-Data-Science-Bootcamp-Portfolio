{
 "cells": [
  {
   "cell_type": "markdown",
   "metadata": {
    "id": "IBb6nSAY5T4I"
   },
   "source": [
    "# Machine Learning\n",
    "## Compulsory task"
   ]
  },
  {
   "cell_type": "markdown",
   "metadata": {
    "id": "N02Qu9_f1N45"
   },
   "source": [
    "1. For each of the following examples describe at least one possible input and\n",
    "output. Justify your answers:  \n",
    "* 1.1 A self-driving car\n",
    "* 1.2 Netflix recommendation system\n",
    "* 1.3 Signature recognition\n",
    "* 1.4 Medical diagnosis\n"
   ]
  },
  {
   "cell_type": "markdown",
   "metadata": {
    "id": "-8aBqprP3ypo"
   },
   "source": [
    "1. Answer here\n",
    "\n",
    "|      | Input(s)    | Output     |\n",
    "| ---- | ----------- | ---------  |\n",
    "| 1.1  |Speed limits |Safer driving| Knowing speed limits for specific roads can improve driver and passenger safety.\n",
    "| 1.2  |TV shows watched|New TV shows recommended| Watching specific genres will result in the algorithm recommending similar shows\n",
    "| 1.3  |User signature|Authorised signed documents| Signature recognition would reduce in documents being signed fraudulently.\n",
    "| 1.4  |Patient symptoms|Diagnosis of condition| Having a database of symptoms from patients with similar illnesses can result in an accurate medical diagnosis."
   ]
  },
  {
   "cell_type": "markdown",
   "metadata": {
    "id": "l_I2f4C85yNF"
   },
   "source": [
    "\n",
    "2. For each of the following case studies, determine whether it is appropriate to utilise regression or classification machine learning algorithms. Justify your answers:\n",
    "* 2.1 Classifying emails as promotion or social based on their content and metadata.\n",
    "* 2.2 Forecasting the stock price of a company based on historical data and market trends.\n",
    "* 2.3 Sorting images of animals into different species based on their visual features.\n",
    "* 2.4 Predicting the likelihood of a patient having a particular disease based on medical history and diagnostic test results."
   ]
  },
  {
   "cell_type": "markdown",
   "metadata": {
    "id": "WgMUsqQr6qFU"
   },
   "source": [
    "2. Answer here\n",
    "* 2.1 - Classification - This task involves categorizing emails into distinct categories (promotion or social). \n",
    "* 2.2 - Regression - Forecasting stock prices involves predicting a continuous numeric value (the future price of a stock) based on historical data and market trends.\n",
    "* 2.3 - Classification - This task is about categorizing images into predefined classes (different species of animals), where the input is an image, and the output is a label denoting the species.\n",
    "* 2.4 - Regression - Predicting the likelihood, which is essentially predicting a probability score between 0 and 1 of having a disease, fits well within the framework of regression."
   ]
  },
  {
   "cell_type": "markdown",
   "metadata": {
    "id": "b6f8UETG64hH"
   },
   "source": [
    "3. For each of the following real-world problems, determine whether it is appropriate to utilise a supervised or unsupervised machine learning algorithm. Justify your answers:\n",
    "* 3.1 Detecting anomalies in a manufacturing process using sensor data without prior knowledge of specific anomaly patterns.\n",
    "* 3.2 Predicting customer lifetime value based on historical transaction data and customer demographics.\n",
    "* 3.3 Segmenting customer demographics based on their purchase history, browsing behaviour, and preferences.\n",
    "* 3.4 Analysing social media posts to categorise them into different themes.\n"
   ]
  },
  {
   "cell_type": "markdown",
   "metadata": {
    "id": "W6dTYBvd675O"
   },
   "source": [
    "3. Answer here\n",
    "* 3.1 - Unsupervised - This task involves identifying unusual patterns or outliers in sensor data where we do not have labeled data indicating what constitutes an anomaly.\n",
    "* 3.2 - Supervised - Predicting customer lifetime value is a regression problem where the goal is to predict a continuous value (the lifetime value) based on known inputs (transaction data and demographics).\n",
    "* 3.3 - Unsupervised - This task involves grouping customers into segments or clusters based on similarities in their purchase history, browsing behavior, and preferences without predefined labels or categories.\n",
    "* 3.4 - Unsupervised - Given the vastness and ever-evolving nature of social media, it's often impractical to start with a comprehensive set of predefined themes."
   ]
  },
  {
   "cell_type": "markdown",
   "metadata": {
    "id": "bqsun96o64xe"
   },
   "source": [
    "4.\n",
    "For each of the following real-world problems, determine whether it is appropriate to utilise semi-supervised machine learning algorithms. Justify your answers:\n",
    "* 4.1 Predicting fraudulent financial transactions using a dataset where most transactions are labelled as fraudulent or legitimate.\n",
    "* 4.2 Analysing customer satisfaction surveys where only a small portion of the data is labelled with satisfaction ratings.\n",
    "*4.3 Identifying spam emails in a dataset where the majority of emails are labelled.\n",
    "* 4.4 Predicting the probability of default for credit card applicants based on their complete financial and credit-related information.\n"
   ]
  },
  {
   "cell_type": "markdown",
   "metadata": {
    "id": "aTWugZ6q68GF"
   },
   "source": [
    "4. Answer here\n",
    "* 4.1 - It wouldn't be appropriate to utilise semi-supervised machine learning algorithms. If most of the transactions in the dataset are already marked as either fraudulent or legitimate, it's better to use supervised learning. This is because there is enough labeled data to teach a model how to recognize these transactions properly.\n",
    "* 4.2 - A semi-supervised algorithm would be appropriate here as we have only a few surveys with satisfaction ratings and many more without any ratings, semi-supervised learning helps us use all that unlabeled survey data. This way, we can get a better idea of what makes a survey positive or negative and predict satisfaction ratings more accurately than if we only used the few surveys that already have ratings.\n",
    "* 4.3 - A semi-supervised algorithm isn't suited here. If the majority of emails in the dataset are already labeled (as spam or not spam), this situation is generally well-suited for supervised learning.\n",
    "* 4.4 - A supervised algorithm can be used as this method uses past data where we already know who didn't pay back. However, if we have a lot of extra data about people that doesn't say if they paid back or not, we might use a mix of both known and unknown data to make better guesses. Which means that a semi-supervised algorithm can also be used."
   ]
  }
 ],
 "metadata": {
  "colab": {
   "provenance": []
  },
  "kernelspec": {
   "display_name": "Python 3 (ipykernel)",
   "language": "python",
   "name": "python3"
  },
  "language_info": {
   "codemirror_mode": {
    "name": "ipython",
    "version": 3
   },
   "file_extension": ".py",
   "mimetype": "text/x-python",
   "name": "python",
   "nbconvert_exporter": "python",
   "pygments_lexer": "ipython3",
   "version": "3.11.5"
  }
 },
 "nbformat": 4,
 "nbformat_minor": 1
}
