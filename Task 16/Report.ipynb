{
 "cells": [
  {
   "cell_type": "code",
   "execution_count": 1,
   "metadata": {
    "id": "h0LVvvnfJsg5"
   },
   "outputs": [],
   "source": [
    "# Import pandas\n",
    "import pandas as pd"
   ]
  },
  {
   "cell_type": "code",
   "execution_count": 28,
   "metadata": {
    "id": "rv2oLRnPK36J",
    "scrolled": true
   },
   "outputs": [
    {
     "name": "stdout",
     "output_type": "stream",
     "text": [
      "Average Income by Ethnicity:\n",
      "\n",
      "Ethnicity\n",
      "African American    47.682101\n",
      "Asian               44.187833\n",
      "Caucasian           44.521945 \n",
      "\n",
      "---------------------------------------- \n",
      "\n",
      "Average Balance by Marital Status:\n",
      "\n",
      "Married\n",
      "No     13.493509\n",
      "Yes    13.388473 \n",
      "\n",
      "---------------------------------------- \n",
      "\n",
      "Highest income:\n",
      "\n",
      "186.634 \n",
      "\n",
      "---------------------------------------- \n",
      "\n",
      "Lowest income:\n",
      "\n",
      "10.354 \n",
      "\n",
      "---------------------------------------- \n",
      "\n",
      "Total number of cards:\n",
      "\n",
      "1183 \n",
      "\n",
      "---------------------------------------- \n",
      "\n",
      "Count by Gender:\n",
      "\n",
      "Gender\n",
      "Female    207\n",
      "Male      193 \n",
      "\n"
     ]
    }
   ],
   "source": [
    "# Create a DataFrame that contains the data in balance.txt.\n",
    "df = pd.read_csv('balance.txt', sep=' ', header=None, skiprows=1, names=['Balance', 'Income', 'Limit', 'Rating', 'Cards', 'Age', 'Education', 'Gender', 'Student', 'Married', 'Ethnicity'])\n",
    "\n",
    "\n",
    "# Comparing average income based on ethnicity\n",
    "average_income_by_ethnicity = df.groupby('Ethnicity')['Income'].mean()\n",
    "print(\"Average Income by Ethnicity:\\n\")\n",
    "print(average_income_by_ethnicity.to_string(), \"\\n\")\n",
    "\n",
    "# Adding spacing\n",
    "print(\"-\" * 40, \"\\n\")\n",
    "\n",
    "# Seeing whether married or single people have a higher balance\n",
    "average_balance_by_marital_status = df.groupby('Married')['Balance'].mean()\n",
    "print(\"Average Balance by Marital Status:\\n\")\n",
    "print(average_balance_by_marital_status.to_string(), \"\\n\")\n",
    "\n",
    "# Adding spacing\n",
    "print(\"-\" * 40, \"\\n\")\n",
    "\n",
    "# Presenting highest income in the dataset\n",
    "highest_income = df['Income'].max()\n",
    "print(\"Highest income:\\n\")\n",
    "print(f\"{highest_income}\", \"\\n\")\n",
    "\n",
    "# Adding spacing\n",
    "print(\"-\" * 40, \"\\n\")\n",
    "\n",
    "# Presenting lowest income in dataset\n",
    "lowest_income = df['Income'].min()\n",
    "print(\"Lowest income:\\n\")\n",
    "print(f\"{lowest_income}\", \"\\n\")\n",
    "\n",
    "# Adding spacing\n",
    "print(\"-\" * 40, \"\\n\")\n",
    "\n",
    "# Total number of cards in the dataset\n",
    "total_cards = df['Cards'].sum()\n",
    "print(\"Total number of cards:\\n\")\n",
    "print(f\"{total_cards}\", \"\\n\")\n",
    "\n",
    "# Adding spacing\n",
    "print(\"-\" * 40, \"\\n\")\n",
    "\n",
    "# Comparing genders in the dataset\n",
    "count_by_gender = df['Gender'].value_counts()\n",
    "print(\"Count by Gender:\\n\")\n",
    "print(count_by_gender.to_string(), \"\\n\")\n"
   ]
  },
  {
   "cell_type": "markdown",
   "metadata": {
    "id": "_LXpBJXZLYoh"
   },
   "source": [
    "Write the code needed to produce a report that provides the following information:\n",
    "* Compare the average income based on ethnicity.\n",
    "* On average, do married or single people have a higher balance?\n",
    "* What is the highest income in our dataset?\n",
    "* What is the lowest income in our dataset?\n",
    "* How many cards do we have recorded in our dataset? (Hint: use `sum()`)\n",
    "* How many females do we have information for vs how many males? (Hint: use `count()` for a list of all methods for computation of descriptive stats, explore the [pandas documentation](https://pandas.pydata.org/pandas-docs/stable/reference/frame.html#computations-descriptive-stats)).\n",
    "\n",
    "\n"
   ]
  },
  {
   "cell_type": "code",
   "execution_count": 20,
   "metadata": {
    "collapsed": true
   },
   "outputs": [
    {
     "name": "stdout",
     "output_type": "stream",
     "text": [
      "Ethnicity\n",
      "African American    47.682101\n",
      "Asian               44.187833\n",
      "Caucasian           44.521945\n",
      "Name: Income, dtype: float64\n",
      "Married\n",
      "No     13.493509\n",
      "Yes    13.388473\n",
      "Name: Balance, dtype: float64\n",
      "Highest income: 186.634\n",
      "Lowest income: 10.354\n",
      "Total number of cards: 1183\n",
      "Gender\n",
      "Female    207\n",
      "Male      193\n",
      "Name: count, dtype: int64\n"
     ]
    }
   ],
   "source": [
    "\n",
    "\n"
   ]
  }
 ],
 "metadata": {
  "colab": {
   "provenance": []
  },
  "kernelspec": {
   "display_name": "Python 3 (ipykernel)",
   "language": "python",
   "name": "python3"
  },
  "language_info": {
   "codemirror_mode": {
    "name": "ipython",
    "version": 3
   },
   "file_extension": ".py",
   "mimetype": "text/x-python",
   "name": "python",
   "nbconvert_exporter": "python",
   "pygments_lexer": "ipython3",
   "version": "3.11.5"
  }
 },
 "nbformat": 4,
 "nbformat_minor": 1
}
