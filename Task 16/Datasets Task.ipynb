{
 "cells": [
  {
   "cell_type": "markdown",
   "metadata": {
    "id": "_yS6VSYNQlRV"
   },
   "source": [
    "# Compulsory Task"
   ]
  },
  {
   "cell_type": "markdown",
   "metadata": {
    "id": "xxJgNn26RYXy"
   },
   "source": [
    "In this compulsory task you will use pandas to select data from a dataset and explain the data retrieved for a given line of code."
   ]
  },
  {
   "cell_type": "code",
   "execution_count": 1,
   "metadata": {
    "id": "tJYiNSV2MeX3"
   },
   "outputs": [],
   "source": [
    "import pandas as pd"
   ]
  },
  {
   "cell_type": "markdown",
   "metadata": {
    "id": "a7Kn2dBSMojX"
   },
   "source": [
    "You will use the same `balance.txt` dataset used in the example Jupyter notebook. Remember to ensure it is in the same folder as this notebook."
   ]
  },
  {
   "cell_type": "code",
   "execution_count": 2,
   "metadata": {
    "id": "JMyj6fTSMiNr"
   },
   "outputs": [],
   "source": [
    "df = pd.read_csv('balance.txt',sep=' ')"
   ]
  },
  {
   "cell_type": "markdown",
   "metadata": {
    "id": "BKTMPK2USayL"
   },
   "source": [
    "1. Write the code that performs the action described in the following statements."
   ]
  },
  {
   "cell_type": "code",
   "execution_count": 10,
   "metadata": {
    "id": "j_ic1wpxMCmu"
   },
   "outputs": [],
   "source": [
    "# Select the 'Limit' and 'Rating' columns of the first five observations\n",
    "df.columns = ['balance', 'income', 'limit', 'rating', 'cards', 'age', 'education', 'gender', 'student', 'married', 'ethnicity']\n",
    "df_selected = df[['limit', 'rating']].head(5)"
   ]
  },
  {
   "cell_type": "code",
   "execution_count": 11,
   "metadata": {
    "id": "H8JeFeHRMWfL"
   },
   "outputs": [],
   "source": [
    "# Select the first five observations with 4 cards\n",
    "observations_with_4_cards = df[df['cards'] == 4].head()"
   ]
  },
  {
   "cell_type": "code",
   "execution_count": 14,
   "metadata": {
    "id": "CH3AvNv6MY8d"
   },
   "outputs": [],
   "source": [
    "# Sort the observations by 'Education'. Show users with a high education value first.\n",
    "df_sorted_by_education = df.sort_values(by='education', ascending=False)"
   ]
  },
  {
   "cell_type": "markdown",
   "metadata": {
    "id": "7D6UiDd8M3VA"
   },
   "source": [
    "2. Write a short explanation in the form of a comment for the following lines of code. For example:  \n",
    "```\n",
    "# Selects the first 5 rows, and all of the columns for those rows.\n",
    "df.iloc[:5,:]\n",
    "```"
   ]
  },
  {
   "cell_type": "code",
   "execution_count": null,
   "metadata": {
    "id": "2ER3T_1HM27b"
   },
   "outputs": [],
   "source": [
    "# [Add explanation here] Command to show all data in a table\n",
    "df.iloc[:,:]"
   ]
  },
  {
   "cell_type": "code",
   "execution_count": null,
   "metadata": {
    "id": "-CaKYE9YM_1-"
   },
   "outputs": [],
   "source": [
    "# [Add explanation here] Command to show data from the 6th row to the last row and from the 6th column to the last column\n",
    "df.iloc[5:,5:]"
   ]
  },
  {
   "cell_type": "code",
   "execution_count": null,
   "metadata": {
    "id": "jYTu3SJINTFP"
   },
   "outputs": [],
   "source": [
    "# [Add explanation here] Command to show all data in the first column.\n",
    "df.iloc[:,0]"
   ]
  },
  {
   "cell_type": "code",
   "execution_count": null,
   "metadata": {
    "id": "YRVRGDCvNq6k"
   },
   "outputs": [],
   "source": [
    "# [Add explanation here] Command to show all data in the 10th row.\n",
    "df.iloc[9,:]"
   ]
  }
 ],
 "metadata": {
  "colab": {
   "provenance": []
  },
  "kernelspec": {
   "display_name": "Python 3 (ipykernel)",
   "language": "python",
   "name": "python3"
  },
  "language_info": {
   "codemirror_mode": {
    "name": "ipython",
    "version": 3
   },
   "file_extension": ".py",
   "mimetype": "text/x-python",
   "name": "python",
   "nbconvert_exporter": "python",
   "pygments_lexer": "ipython3",
   "version": "3.11.5"
  }
 },
 "nbformat": 4,
 "nbformat_minor": 1
}
